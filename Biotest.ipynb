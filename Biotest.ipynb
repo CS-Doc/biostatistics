{
 "cells": [
  {
   "cell_type": "code",
   "execution_count": 1,
   "id": "d6bdf5b7",
   "metadata": {},
   "outputs": [
    {
     "name": "stdout",
     "output_type": "stream",
     "text": [
      "ello Biostatistics!\n"
     ]
    }
   ],
   "source": [
    "print(\"Hello Biostatistics!\")"
   ]
  },
  {
   "cell_type": "code",
   "execution_count": 3,
   "id": "83f6ff61",
   "metadata": {},
   "outputs": [],
   "source": [
    "import numpy as np\n"
   ]
  },
  {
   "cell_type": "code",
   "execution_count": 5,
   "id": "3ace2f7f",
   "metadata": {},
   "outputs": [
    {
     "data": {
      "text/plain": [
       "5.0"
      ]
     },
     "execution_count": 5,
     "metadata": {},
     "output_type": "execute_result"
    }
   ],
   "source": [
    "np.round(32/6)"
   ]
  },
  {
   "cell_type": "code",
   "execution_count": 6,
   "id": "cd6d65a4",
   "metadata": {},
   "outputs": [
    {
     "data": {
      "text/plain": [
       "111.75"
      ]
     },
     "execution_count": 6,
     "metadata": {},
     "output_type": "execute_result"
    }
   ],
   "source": [
    "np.mean([2,64,356,25])"
   ]
  },
  {
   "cell_type": "code",
   "execution_count": 7,
   "id": "d02ad341",
   "metadata": {},
   "outputs": [],
   "source": [
    "import numpy as np"
   ]
  },
  {
   "cell_type": "code",
   "execution_count": 8,
   "id": "bd42ef6c",
   "metadata": {},
   "outputs": [],
   "source": [
    "list_1 = [1,2,3,4,5]"
   ]
  },
  {
   "cell_type": "code",
   "execution_count": 10,
   "id": "253fcf0e",
   "metadata": {},
   "outputs": [
    {
     "data": {
      "text/plain": [
       "15"
      ]
     },
     "execution_count": 10,
     "metadata": {},
     "output_type": "execute_result"
    }
   ],
   "source": [
    "np.sum(list_1)"
   ]
  },
  {
   "cell_type": "code",
   "execution_count": 11,
   "id": "94b63640",
   "metadata": {},
   "outputs": [],
   "source": [
    "mean = np.sum(list_1) / len(list_1)"
   ]
  },
  {
   "cell_type": "code",
   "execution_count": 12,
   "id": "be71c1dd",
   "metadata": {},
   "outputs": [
    {
     "name": "stdout",
     "output_type": "stream",
     "text": [
      "3.0\n"
     ]
    }
   ],
   "source": [
    "print(mean)"
   ]
  },
  {
   "cell_type": "code",
   "execution_count": 14,
   "id": "c034e9e4",
   "metadata": {},
   "outputs": [
    {
     "data": {
      "text/plain": [
       "1"
      ]
     },
     "execution_count": 14,
     "metadata": {},
     "output_type": "execute_result"
    }
   ],
   "source": [
    "list_1[0]"
   ]
  },
  {
   "cell_type": "code",
   "execution_count": 15,
   "id": "4d86371c",
   "metadata": {},
   "outputs": [
    {
     "data": {
      "text/plain": [
       "5"
      ]
     },
     "execution_count": 15,
     "metadata": {},
     "output_type": "execute_result"
    }
   ],
   "source": [
    "list_1[-1]"
   ]
  },
  {
   "cell_type": "code",
   "execution_count": 16,
   "id": "2ab2ef2d",
   "metadata": {},
   "outputs": [
    {
     "data": {
      "text/plain": [
       "[2, 3]"
      ]
     },
     "execution_count": 16,
     "metadata": {},
     "output_type": "execute_result"
    }
   ],
   "source": [
    "list_1[1:3]"
   ]
  },
  {
   "cell_type": "code",
   "execution_count": 18,
   "id": "c4e6f70d",
   "metadata": {},
   "outputs": [],
   "source": [
    "list_1.append(6)"
   ]
  },
  {
   "cell_type": "markdown",
   "id": "c03ee94b",
   "metadata": {},
   "source": [
    "list_1 "
   ]
  },
  {
   "cell_type": "code",
   "execution_count": 19,
   "id": "f970b424",
   "metadata": {},
   "outputs": [
    {
     "data": {
      "text/plain": [
       "[1, 2, 3, 4, 5, 6]"
      ]
     },
     "execution_count": 19,
     "metadata": {},
     "output_type": "execute_result"
    }
   ],
   "source": [
    "list_1"
   ]
  },
  {
   "cell_type": "code",
   "execution_count": 20,
   "id": "35a1ebca",
   "metadata": {},
   "outputs": [
    {
     "data": {
      "text/plain": [
       "[1, 2, 3, 4, 5, 6, 7]"
      ]
     },
     "execution_count": 20,
     "metadata": {},
     "output_type": "execute_result"
    }
   ],
   "source": [
    "list_1 + [7]"
   ]
  },
  {
   "cell_type": "code",
   "execution_count": 21,
   "id": "2f9855e1",
   "metadata": {},
   "outputs": [
    {
     "data": {
      "text/plain": [
       "[1, 2, 3, 4, 5, 6]"
      ]
     },
     "execution_count": 21,
     "metadata": {},
     "output_type": "execute_result"
    }
   ],
   "source": [
    "list_1"
   ]
  },
  {
   "cell_type": "code",
   "execution_count": 22,
   "id": "667e2895",
   "metadata": {},
   "outputs": [],
   "source": [
    "list_1.remove(5)"
   ]
  },
  {
   "cell_type": "code",
   "execution_count": 23,
   "id": "1f54ae3e",
   "metadata": {},
   "outputs": [
    {
     "data": {
      "text/plain": [
       "[1, 2, 3, 4, 6]"
      ]
     },
     "execution_count": 23,
     "metadata": {},
     "output_type": "execute_result"
    }
   ],
   "source": [
    "list_1"
   ]
  },
  {
   "cell_type": "code",
   "execution_count": 24,
   "id": "7eef0492",
   "metadata": {},
   "outputs": [
    {
     "data": {
      "text/plain": [
       "[0, 1, 2, 3, 4]"
      ]
     },
     "execution_count": 24,
     "metadata": {},
     "output_type": "execute_result"
    }
   ],
   "source": [
    "[i for i in range(5)]"
   ]
  },
  {
   "cell_type": "code",
   "execution_count": 25,
   "id": "89ad882c",
   "metadata": {},
   "outputs": [],
   "source": [
    "hi = [i**2 for i in range(5)]"
   ]
  },
  {
   "cell_type": "code",
   "execution_count": 26,
   "id": "59e72e9c",
   "metadata": {},
   "outputs": [
    {
     "data": {
      "text/plain": [
       "[0, 1, 4, 9, 16]"
      ]
     },
     "execution_count": 26,
     "metadata": {},
     "output_type": "execute_result"
    }
   ],
   "source": [
    "hi"
   ]
  },
  {
   "cell_type": "code",
   "execution_count": 28,
   "id": "2740ecd4",
   "metadata": {},
   "outputs": [
    {
     "data": {
      "text/plain": [
       "array([ 0,  3,  6,  9, 12, 15, 18])"
      ]
     },
     "execution_count": 28,
     "metadata": {},
     "output_type": "execute_result"
    }
   ],
   "source": [
    "np.arange(0, 21, 3)"
   ]
  },
  {
   "cell_type": "code",
   "execution_count": 29,
   "id": "8f232f39",
   "metadata": {},
   "outputs": [
    {
     "data": {
      "text/plain": [
       "array([  1.  ,  25.75,  50.5 ,  75.25, 100.  ])"
      ]
     },
     "execution_count": 29,
     "metadata": {},
     "output_type": "execute_result"
    }
   ],
   "source": [
    "np.linspace(1, 100, 5)"
   ]
  },
  {
   "cell_type": "code",
   "execution_count": 30,
   "id": "59cb0a52",
   "metadata": {},
   "outputs": [],
   "source": [
    "dict_1 = {\"Pneumonia\":10, \"Hypertension\":5, \"Diabetes\":4}"
   ]
  },
  {
   "cell_type": "code",
   "execution_count": 31,
   "id": "06caa56a",
   "metadata": {},
   "outputs": [
    {
     "data": {
      "text/plain": [
       "dict"
      ]
     },
     "execution_count": 31,
     "metadata": {},
     "output_type": "execute_result"
    }
   ],
   "source": [
    "type(dict_1)"
   ]
  },
  {
   "cell_type": "code",
   "execution_count": 32,
   "id": "93f1c9cd",
   "metadata": {},
   "outputs": [
    {
     "data": {
      "text/plain": [
       "dict_items([('Pneumonia', 10), ('Hypertension', 5), ('Diabetes', 4)])"
      ]
     },
     "execution_count": 32,
     "metadata": {},
     "output_type": "execute_result"
    }
   ],
   "source": [
    "dict_1.items()"
   ]
  },
  {
   "cell_type": "code",
   "execution_count": 33,
   "id": "c2582cb0",
   "metadata": {},
   "outputs": [
    {
     "data": {
      "text/plain": [
       "dict_keys(['Pneumonia', 'Hypertension', 'Diabetes'])"
      ]
     },
     "execution_count": 33,
     "metadata": {},
     "output_type": "execute_result"
    }
   ],
   "source": [
    "dict_1.keys()"
   ]
  },
  {
   "cell_type": "code",
   "execution_count": 34,
   "id": "de3e970f",
   "metadata": {},
   "outputs": [
    {
     "data": {
      "text/plain": [
       "dict_values([10, 5, 4])"
      ]
     },
     "execution_count": 34,
     "metadata": {},
     "output_type": "execute_result"
    }
   ],
   "source": [
    "dict_1.values()"
   ]
  },
  {
   "cell_type": "code",
   "execution_count": 35,
   "id": "5137981d",
   "metadata": {},
   "outputs": [
    {
     "data": {
      "text/plain": [
       "5"
      ]
     },
     "execution_count": 35,
     "metadata": {},
     "output_type": "execute_result"
    }
   ],
   "source": [
    "dict_1[\"Hypertension\"]"
   ]
  },
  {
   "cell_type": "code",
   "execution_count": 36,
   "id": "e200ea06",
   "metadata": {},
   "outputs": [],
   "source": [
    "dict_1.update({\"Bronchitis\":6})"
   ]
  },
  {
   "cell_type": "code",
   "execution_count": 37,
   "id": "319a89c0",
   "metadata": {},
   "outputs": [
    {
     "data": {
      "text/plain": [
       "{'Pneumonia': 10, 'Hypertension': 5, 'Diabetes': 4, 'Bronchitis': 6}"
      ]
     },
     "execution_count": 37,
     "metadata": {},
     "output_type": "execute_result"
    }
   ],
   "source": [
    "dict_1"
   ]
  },
  {
   "cell_type": "code",
   "execution_count": 38,
   "id": "3b045ed8",
   "metadata": {},
   "outputs": [
    {
     "data": {
      "text/plain": [
       "5"
      ]
     },
     "execution_count": 38,
     "metadata": {},
     "output_type": "execute_result"
    }
   ],
   "source": [
    "dict_1.pop(\"Hypertension\")"
   ]
  },
  {
   "cell_type": "code",
   "execution_count": 39,
   "id": "c3cc21c8",
   "metadata": {},
   "outputs": [
    {
     "data": {
      "text/plain": [
       "{'Pneumonia': 10, 'Diabetes': 4, 'Bronchitis': 6}"
      ]
     },
     "execution_count": 39,
     "metadata": {},
     "output_type": "execute_result"
    }
   ],
   "source": [
    "dict_1"
   ]
  },
  {
   "cell_type": "code",
   "execution_count": 40,
   "id": "65f83116",
   "metadata": {},
   "outputs": [],
   "source": [
    "dict_2 = {\"Diabetes\":{\"IDDM\":10, \"NIDDM\":12}, \"Hypertension\":12}"
   ]
  },
  {
   "cell_type": "code",
   "execution_count": 41,
   "id": "f5ee1d4b",
   "metadata": {},
   "outputs": [
    {
     "data": {
      "text/plain": [
       "{'Diabetes': {'IDDM': 10, 'NIDDM': 12}, 'Hypertension': 12}"
      ]
     },
     "execution_count": 41,
     "metadata": {},
     "output_type": "execute_result"
    }
   ],
   "source": [
    "dict_2"
   ]
  },
  {
   "cell_type": "code",
   "execution_count": 42,
   "id": "655f2fac",
   "metadata": {},
   "outputs": [
    {
     "data": {
      "text/plain": [
       "dict_values([{'IDDM': 10, 'NIDDM': 12}, 12])"
      ]
     },
     "execution_count": 42,
     "metadata": {},
     "output_type": "execute_result"
    }
   ],
   "source": [
    "dict_2.values()"
   ]
  },
  {
   "cell_type": "code",
   "execution_count": null,
   "id": "5c941242",
   "metadata": {},
   "outputs": [],
   "source": []
  }
 ],
 "metadata": {
  "kernelspec": {
   "display_name": "Python 3",
   "language": "python",
   "name": "python3"
  },
  "language_info": {
   "codemirror_mode": {
    "name": "ipython",
    "version": 3
   },
   "file_extension": ".py",
   "mimetype": "text/x-python",
   "name": "python",
   "nbconvert_exporter": "python",
   "pygments_lexer": "ipython3",
   "version": "3.8.8"
  }
 },
 "nbformat": 4,
 "nbformat_minor": 5
}
