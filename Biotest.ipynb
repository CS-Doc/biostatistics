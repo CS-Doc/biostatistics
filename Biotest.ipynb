{
 "cells": [
  {
   "cell_type": "code",
   "execution_count": 1,
   "id": "e006661d",
   "metadata": {},
   "outputs": [
    {
     "name": "stdout",
     "output_type": "stream",
     "text": [
      "ello Biostatistics!\n"
     ]
    }
   ],
   "source": [
    "print(\"Hello Biostatistics!\")"
   ]
  },
  {
   "cell_type": "code",
   "execution_count": 3,
   "id": "a567d01d",
   "metadata": {},
   "outputs": [],
   "source": [
    "import numpy as np\n"
   ]
  },
  {
   "cell_type": "code",
   "execution_count": 5,
   "id": "43bdb4ba",
   "metadata": {},
   "outputs": [
    {
     "data": {
      "text/plain": [
       "5.0"
      ]
     },
     "execution_count": 5,
     "metadata": {},
     "output_type": "execute_result"
    }
   ],
   "source": [
    "np.round(32/6)"
   ]
  },
  {
   "cell_type": "code",
   "execution_count": 6,
   "id": "3fff1a24",
   "metadata": {},
   "outputs": [
    {
     "data": {
      "text/plain": [
       "111.75"
      ]
     },
     "execution_count": 6,
     "metadata": {},
     "output_type": "execute_result"
    }
   ],
   "source": [
    "np.mean([2,64,356,25])"
   ]
  },
  {
   "cell_type": "code",
   "execution_count": null,
   "id": "d6db5537",
   "metadata": {},
   "outputs": [],
   "source": []
  }
 ],
 "metadata": {
  "kernelspec": {
   "display_name": "Python 3",
   "language": "python",
   "name": "python3"
  },
  "language_info": {
   "codemirror_mode": {
    "name": "ipython",
    "version": 3
   },
   "file_extension": ".py",
   "mimetype": "text/x-python",
   "name": "python",
   "nbconvert_exporter": "python",
   "pygments_lexer": "ipython3",
   "version": "3.8.8"
  }
 },
 "nbformat": 4,
 "nbformat_minor": 5
}
